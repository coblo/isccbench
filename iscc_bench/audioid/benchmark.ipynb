{
 "cells": [
  {
   "cell_type": "markdown",
   "metadata": {},
   "source": [
    "# ISCC Content-ID-Audio Benchmark\n",
    "\n",
    "Benchmarking robustness of the ISCC Content-ID Audio against transcoding."
   ]
  },
  {
   "cell_type": "code",
   "execution_count": 161,
   "metadata": {},
   "outputs": [],
   "source": [
    "import os\n",
    "import sys\n",
    "sys.path.append(\"../../\")\n",
    "import iscc\n",
    "from IPython.display import HTML, display\n",
    "import tabulate\n",
    "from iscc_bench.readers.fma_small import fma_small\n",
    "from iscc_bench.algos.metrics import jaccard\n",
    "from iscc_cli import audio_id\n",
    "from iscc_cli import ffmpeg\n",
    "from subprocess import run\n",
    "from dataclasses import dataclass\n",
    "from os.path import basename, splitext, abspath, join\n",
    "from iscc_bench import DATA_DIR\n",
    "from tqdm.notebook import tqdm as pbar\n",
    "from statistics import mean\n",
    "from bitstring import BitArray\n",
    "from codetiming import Timer"
   ]
  },
  {
   "cell_type": "code",
   "execution_count": 162,
   "metadata": {},
   "outputs": [],
   "source": [
    "files = [abspath(fp) for fp in fma_small()]\n",
    "VARIATIONS_PATH = os.path.join(DATA_DIR, 'fma_variations')\n",
    "os.makedirs(VARIATIONS_PATH, exist_ok=True )\n",
    "\n",
    "\n",
    "@dataclass\n",
    "class Muxer:\n",
    "    ext: str\n",
    "    mime: str\n",
    "    dac: str\n",
    "\n",
    "\n",
    "def muxer_info(muxer):\n",
    "    result = run([ffmpeg.exe_path(), '-h', f'muxer={muxer}'], capture_output=True).stdout.decode('utf-8').splitlines()\n",
    "    ext, mime, dac = '', '', ''\n",
    "    for line in result:\n",
    "        if 'Common extensions' in line:\n",
    "            ext = line.strip().split()[-1].strip('.')\n",
    "            ext = ext.split(',')[0]\n",
    "        if 'Mime type' in line:\n",
    "            mime = line.strip().split()[-1].strip('.')\n",
    "        if 'Default audio codec' in line:\n",
    "            dac = line.strip().split()[-1].strip('.')\n",
    "\n",
    "    return Muxer(ext, mime, dac)\n",
    "    \n",
    "\n",
    "def formats():\n",
    "    \"\"\"Show supported ffmpeg file formats\"\"\"\n",
    "    return run([ffmpeg.exe_path(), '-formats'], capture_output=True).stdout.decode('utf-8').splitlines()\n",
    "    \n",
    "def audio_codecs():\n",
    "    \"\"\"List supported ffmpeg audio codecs\"\"\"\n",
    "    result = run([ffmpeg.exe_path(), '-codecs'], capture_output=True).stdout.decode('utf-8')\n",
    "    # Only Audio Codecs with de- and encoding support\n",
    "    result = [line.strip() for line in result.splitlines() if line.strip().startswith('DEA')]\n",
    "    result = [line.split()[1] for line in result]\n",
    "    return result\n",
    "\n",
    "\n",
    "def muxers():\n",
    "    \"\"\"Find out what audio file extensions map to what default codecs in ffmpeg\"\"\"\n",
    "    result = run([ffmpeg.exe_path(), '-muxers'], capture_output=True).stdout.decode('utf-8').splitlines()\n",
    "    result = [line.strip(' E ').split()[0] for line in result if line.startswith(\"  E\")]\n",
    "    result = [muxer_info(muxer) for muxer in result]\n",
    "    codecs = audio_codecs() \n",
    "    result = [r for r in result if r.dac in codecs]\n",
    "    seen_codecs = set()\n",
    "    unique = []\n",
    "    for mux in result:\n",
    "        if mux.dac not in seen_codecs:\n",
    "            if mux.mime and mux.mime.startswith('audio'):\n",
    "                if mux.ext:\n",
    "                    unique.append(mux)\n",
    "                    seen_codecs.add(mux.dac)\n",
    "    return unique\n",
    "\n",
    " \n",
    "def show(table):\n",
    "    \"\"\"Pretty print results table\"\"\"\n",
    "    display(HTML(tabulate.tabulate(table, tablefmt='html', headers=\"firstrow\")))\n",
    "\n",
    "target_formats = (\n",
    "    'ac3_128000', \n",
    "    'ac3_64000', \n",
    "    'aac_128000', \n",
    "    'aac_64000',\n",
    "    'aif_128000', \n",
    "    'aif_64000',\n",
    "    'flac_128000', \n",
    "    'flac_64000', \n",
    "    'mp2_128000', \n",
    "    'mp2_64000', \n",
    "    'mp3_128000', \n",
    "    'mp3_64000', \n",
    "    'opus_128000', \n",
    "    'opus_64000', \n",
    "    'wv_128000',\n",
    "    'wv_64000',\n",
    ")\n",
    "\n",
    "\n",
    "def variations(fp):\n",
    "    \"\"\"Builds/Caches/Returns a list of encoding variations for a given audio file at file path (fp)\"\"\"\n",
    "    in_name, in_ext = splitext(basename(fp))\n",
    "    vars = []\n",
    "    for tf in target_formats:\n",
    "        fmt, bitrate = tf.split('_')\n",
    "        out_path = abspath(join(VARIATIONS_PATH, f'{in_name}-{bitrate}.{fmt}'))\n",
    "        # generate if it does not exist:\n",
    "        if not os.path.exists(out_path):\n",
    "            run([ffmpeg.exe_path(), '-i', fp, '-b:a', bitrate, out_path], check=True)\n",
    "        vars.append(out_path)\n",
    "    return vars\n"
   ]
  },
  {
   "cell_type": "code",
   "execution_count": 163,
   "metadata": {},
   "outputs": [],
   "source": [
    "# Algorithms\n",
    "\n",
    "\n",
    "def cr_mh_lsb(fp):\n",
    "    crv = audio_id.get_chroma_vector(fp)\n",
    "    mh = iscc.minimum_hash(crv, n=64)\n",
    "    return [(i, x & 1) for i, x in enumerate(mh)]\n",
    "\n",
    "\n",
    "def cr_sh32(fp):\n",
    "    crv = audio_id.get_chroma_vector(fp)\n",
    "    digests = [f.to_bytes(4, \"big\", signed=True) for f in crv]\n",
    "    shash_digest = iscc.similarity_hash(digests)\n",
    "    bitstr = BitArray(shash_digest).bin\n",
    "    return [(i, b) for i, b in enumerate(bitstr)] \n",
    "\n",
    "\n",
    "def cr_sh64_pw(fp):\n",
    "    crv = audio_id.get_chroma_vector(fp)\n",
    "    digests = []\n",
    "    for a, b in iscc.sliding_window(crv, 2):\n",
    "        digest = a.to_bytes(4, 'big', signed=True) +  b.to_bytes(4, 'big', signed=True)\n",
    "        digests.append(digest) \n",
    "    shash_digest = iscc.similarity_hash(digests)\n",
    "    bitstr = BitArray(shash_digest).bin\n",
    "    return [(i, b) for i, b in enumerate(bitstr)]\n",
    "   \n",
    "\n",
    "algorithms = [\n",
    "    cr_mh_lsb,\n",
    "    cr_sh32,\n",
    "    cr_sh64_pw,\n",
    "]"
   ]
  },
  {
   "cell_type": "code",
   "execution_count": 164,
   "metadata": {},
   "outputs": [
    {
     "name": "stdout",
     "output_type": "stream",
     "text": [
      "Benchmarking 100 tracks against 16 transcodings.\n",
      "\n",
      "Computing cr_mh_lsb\n"
     ]
    },
    {
     "data": {
      "application/vnd.jupyter.widget-view+json": {
       "model_id": "1f0b6110013b4d438523d155cea79e5e",
       "version_major": 2,
       "version_minor": 0
      },
      "text/plain": [
       "HBox(children=(FloatProgress(value=0.0), HTML(value='')))"
      ]
     },
     "metadata": {},
     "output_type": "display_data"
    },
    {
     "name": "stdout",
     "output_type": "stream",
     "text": [
      "\n",
      "Elapsed time: 90.5313 seconds\n",
      "\n",
      "Computing cr_sh32\n"
     ]
    },
    {
     "data": {
      "application/vnd.jupyter.widget-view+json": {
       "model_id": "92955fbc803f4d1ca16e40ba11f50351",
       "version_major": 2,
       "version_minor": 0
      },
      "text/plain": [
       "HBox(children=(FloatProgress(value=0.0), HTML(value='')))"
      ]
     },
     "metadata": {},
     "output_type": "display_data"
    },
    {
     "name": "stdout",
     "output_type": "stream",
     "text": [
      "\n",
      "Elapsed time: 85.4680 seconds\n",
      "\n",
      "Computing cr_sh64_pw\n"
     ]
    },
    {
     "data": {
      "application/vnd.jupyter.widget-view+json": {
       "model_id": "16957d8a29ef4514bfeb9884588c6b52",
       "version_major": 2,
       "version_minor": 0
      },
      "text/plain": [
       "HBox(children=(FloatProgress(value=0.0), HTML(value='')))"
      ]
     },
     "metadata": {},
     "output_type": "display_data"
    },
    {
     "name": "stdout",
     "output_type": "stream",
     "text": [
      "\n",
      "Elapsed time: 87.3433 seconds\n"
     ]
    },
    {
     "data": {
      "text/html": [
       "<table>\n",
       "<thead>\n",
       "<tr><th>Transcoding  </th><th style=\"text-align: right;\">  cr_mh_lsb</th><th style=\"text-align: right;\">  cr_sh32</th><th style=\"text-align: right;\">  cr_sh64_pw</th></tr>\n",
       "</thead>\n",
       "<tbody>\n",
       "<tr><td>ac3_128000   </td><td style=\"text-align: right;\">       0.67</td><td style=\"text-align: right;\">     0.97</td><td style=\"text-align: right;\">        0.97</td></tr>\n",
       "<tr><td>ac3_64000    </td><td style=\"text-align: right;\">       0.58</td><td style=\"text-align: right;\">     0.97</td><td style=\"text-align: right;\">        0.97</td></tr>\n",
       "<tr><td>aac_128000   </td><td style=\"text-align: right;\">       0.46</td><td style=\"text-align: right;\">     0.96</td><td style=\"text-align: right;\">        0.96</td></tr>\n",
       "<tr><td>aac_64000    </td><td style=\"text-align: right;\">       0.44</td><td style=\"text-align: right;\">     0.95</td><td style=\"text-align: right;\">        0.95</td></tr>\n",
       "<tr><td>aif_128000   </td><td style=\"text-align: right;\">       0.99</td><td style=\"text-align: right;\">     1   </td><td style=\"text-align: right;\">        1   </td></tr>\n",
       "<tr><td>aif_64000    </td><td style=\"text-align: right;\">       0.99</td><td style=\"text-align: right;\">     1   </td><td style=\"text-align: right;\">        1   </td></tr>\n",
       "<tr><td>flac_128000  </td><td style=\"text-align: right;\">       1   </td><td style=\"text-align: right;\">     1   </td><td style=\"text-align: right;\">        1   </td></tr>\n",
       "<tr><td>flac_64000   </td><td style=\"text-align: right;\">       1   </td><td style=\"text-align: right;\">     1   </td><td style=\"text-align: right;\">        1   </td></tr>\n",
       "<tr><td>mp2_128000   </td><td style=\"text-align: right;\">       0.58</td><td style=\"text-align: right;\">     0.97</td><td style=\"text-align: right;\">        0.97</td></tr>\n",
       "<tr><td>mp2_64000    </td><td style=\"text-align: right;\">       0.56</td><td style=\"text-align: right;\">     0.97</td><td style=\"text-align: right;\">        0.97</td></tr>\n",
       "<tr><td>mp3_128000   </td><td style=\"text-align: right;\">       0.79</td><td style=\"text-align: right;\">     0.99</td><td style=\"text-align: right;\">        0.99</td></tr>\n",
       "<tr><td>mp3_64000    </td><td style=\"text-align: right;\">       0.63</td><td style=\"text-align: right;\">     0.98</td><td style=\"text-align: right;\">        0.98</td></tr>\n",
       "<tr><td>opus_128000  </td><td style=\"text-align: right;\">       0.71</td><td style=\"text-align: right;\">     0.98</td><td style=\"text-align: right;\">        0.98</td></tr>\n",
       "<tr><td>opus_64000   </td><td style=\"text-align: right;\">       0.59</td><td style=\"text-align: right;\">     0.96</td><td style=\"text-align: right;\">        0.97</td></tr>\n",
       "<tr><td>wv_128000    </td><td style=\"text-align: right;\">       1   </td><td style=\"text-align: right;\">     1   </td><td style=\"text-align: right;\">        1   </td></tr>\n",
       "<tr><td>wv_64000     </td><td style=\"text-align: right;\">       1   </td><td style=\"text-align: right;\">     1   </td><td style=\"text-align: right;\">        1   </td></tr>\n",
       "</tbody>\n",
       "</table>"
      ],
      "text/plain": [
       "<IPython.core.display.HTML object>"
      ]
     },
     "metadata": {},
     "output_type": "display_data"
    }
   ],
   "source": [
    "def evaluate(max_files=100):\n",
    "    print(f\"Benchmarking {max_files} tracks against {len(target_formats)} transcodings.\")\n",
    "    result = {func.__name__:{} for func in algorithms}   \n",
    "    for func in algorithms:\n",
    "        db = result[func.__name__]\n",
    "        print(f'\\nComputing {func.__name__}')\n",
    "        with Timer():\n",
    "            for tf in target_formats:\n",
    "                db[tf] = []\n",
    "            for reference_fp in pbar(files[:max_files]):\n",
    "                ref_vec = func(reference_fp)\n",
    "                for variation_fp in variations(reference_fp):\n",
    "                    fname, ext = splitext(basename(variation_fp))\n",
    "                    vari_name = f'{ext.lstrip(\".\")}_{fname.split(\"-\")[-1]}'\n",
    "                    vari_vec = func(variation_fp)\n",
    "                    distance = jaccard(ref_vec, vari_vec)\n",
    "                    db[vari_name].append(distance)\n",
    "\n",
    "    algo_names = [func.__name__ for func in algorithms]\n",
    "    head = ['Transcoding', *algo_names]\n",
    "    tbl = [head]\n",
    "    for tf in target_formats:\n",
    "        row = [tf]\n",
    "        for alg, varis in result.items():\n",
    "            for vari, data in varis.items():\n",
    "                if vari==tf:\n",
    "                    row.append(round(mean(data), 2))\n",
    "        tbl.append(row)\n",
    "    show(tbl)\n",
    "    return result\n",
    "\n",
    "r = evaluate()"
   ]
  }
 ],
 "metadata": {
  "kernelspec": {
   "display_name": "iscc-experiments",
   "language": "python",
   "name": "iscc-experiments"
  },
  "language_info": {
   "codemirror_mode": {
    "name": "ipython",
    "version": 3
   },
   "file_extension": ".py",
   "mimetype": "text/x-python",
   "name": "python",
   "nbconvert_exporter": "python",
   "pygments_lexer": "ipython3",
   "version": "3.7.1"
  }
 },
 "nbformat": 4,
 "nbformat_minor": 4
}
